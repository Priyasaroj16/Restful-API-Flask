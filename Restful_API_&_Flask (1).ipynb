{
  "nbformat": 4,
  "nbformat_minor": 0,
  "metadata": {
    "colab": {
      "provenance": []
    },
    "kernelspec": {
      "name": "python3",
      "display_name": "Python 3"
    },
    "language_info": {
      "name": "python"
    }
  },
  "cells": [
    {
      "cell_type": "markdown",
      "source": [
        "### **1.What is a RESTful API?**\n",
        "**Ans.-**A RESTful API is a type of API that uses the principles of Representational State Transfer (REST) to communicate between different systems over the internet. It's a popular choice for web services and mobile applications, providing a simple, standardized way for clients and servers to interact.\n",
        "\n",
        "\n",
        "### **2.Explain the concept of API specification.**\n",
        "**Ans.-**An API (Application Programming Interface) specification is a blueprint that describes how an API behaves and interacts with other systems. It's essentially a formal document detailing the API's operations, endpoints, input/output formats, and data models, acting as a contract between the API provider and its users.\n",
        "\n",
        "### **3.What is Flask, and why is it popular for building APIs?**\n",
        "**Ans.-**Flask is a lightweight and flexible micro-framework for building web applications and APIs in Python. It's known for its simplicity and ease of use, making it a popular choice for creating RESTful APIs and microservices.\n",
        "\n",
        "##**Why Flask is popular for building APIs:**\n",
        "\n",
        "**Lightweight and Minimalistic:**\n",
        "Flask is designed to be minimal, providing only the necessary components for web development without unnecessary overhead.\n",
        "\n",
        "**Flexibility:**\n",
        "It offers a high degree of control and flexibility to developers, allowing them to customize the application structure and add features as needed.\n",
        "\n",
        "**RESTful API Design:**\n",
        "Flask is well-suited for creating RESTful APIs, which are a standard way to access web services.\n",
        "\n",
        "**Easy to Learn and Use:**\n",
        "Flask's simplicity makes it easier for developers to learn and use, particularly for those new to web development.\n",
        "\n",
        "**Large Community and Support:**\n",
        "Flask has a large and active community, providing ample resources, tutorials, and support for developers.\n",
        "\n",
        "**Scalability:**\n",
        "Flask can be scaled to handle complex projects and large volumes of data.\n",
        "\n",
        "**Extensibility:**\n",
        "Flask can be extended with various extensions for different functionalities, such as database integration and authentication.\n",
        "\n",
        "**Pythonic:**\n",
        "Flask is written in Python, a versatile and widely used language with a vast ecosystem of libraries and tools\n",
        "\n",
        "###**4.What is routing in Flask?**\n",
        "**Ans.-**In Flask, routing is the mechanism that maps specific URLs to Python functions. It is a fundamental concept that allows you to create a well-organized and dynamic web application by associating different URLs with different functionalities.\n",
        "\n",
        "###**5.How do you create a simple Flask application?**\n",
        "**Ans.-**\n",
        "1-Initialize your new Python application.\n",
        "\n",
        "2-Create a Flask web server.\n",
        "\n",
        "3-Add API routes and return JSON data.\n",
        "\n",
        "4-Run your API web server.\n",
        "\n",
        "###**6.What are HTTP methods used in RESTful APIs?**\n",
        "**Ans.-**In RESTful APIs, the most commonly used HTTP methods are GET, POST, PUT, PATCH, and DELETE. These methods correspond to the CRUD (Create, Read, Update, Delete) operations, respectively.\n",
        "\n",
        "##**Here's a breakdown of each method:**\n",
        "\n",
        "**GET:**\n",
        "Retrieves data from the server. It's used to read resources or information about a resource.\n",
        "\n",
        "**POST:**\n",
        "Creates a new resource on the server. It's typically used to send data for creating new entries or performing actions.\n",
        "\n",
        "**PUT:**\n",
        "Updates an existing resource on the server. It replaces the entire resource with the data provided in the request.\n",
        "\n",
        "**PATCH:**\n",
        "Partially updates an existing resource. It applies specific changes without replacing the entire resource.\n",
        "\n",
        "**DELETE:**\n",
        "Removes a resource from the server.\n",
        "\n",
        "###**7.What is the purpose of the @app.route() decorator in Flask?**\n",
        "**Ans.-**The @app.route() decorator in Flask serves as a crucial mechanism for mapping specific URLs to Python functions. It essentially establishes the routing structure of a Flask web application.\n",
        "\n",
        "##**Here's a breakdown of its purpose:**\n",
        "\n",
        "**URL Binding:**\n",
        "It associates a URL path with a particular function. When a user accesses the specified URL in their browser, Flask executes the corresponding function.\n",
        "\n",
        "**Request Handling:**\n",
        "The decorated function becomes the handler for requests to that URL. This function processes the request and generates the appropriate response (e.g., HTML content, data, redirection).\n",
        "\n",
        "**Simplified Routing:**\n",
        "It provides a concise and readable way to define routes. Instead of manually managing URL mappings, you use the decorator to declare the relationship between URLs and functions.\n",
        "\n",
        "**Function Extension:**\n",
        "Decorators, in general, extend the behavior of a function without altering its core functionality. In this case, @app.route() adds the routing capability to the decorated function.\n",
        "\n",
        "**HTTP Method Handling:**\n",
        "By default, a route only answers to GET requests. You can use the methods argument of the route() decorator to handle different HTTP methods (e.g., POST, PUT, DELETE).\n",
        "\n",
        "###**8.What is the difference between GET and POST HTTP methods?**\n",
        "**Ans.-**The main difference between GET and POST HTTP methods lies in how they handle data transmission. GET retrieves data, and data is included in the URL, while POST sends data to a server to create or update resources, and data is sent in the request body.\n",
        "\n",
        "\n",
        "##**GET:**\n",
        "\n",
        "**Retrieving Data:** GET is used to request data from a server.\n",
        "\n",
        "**Data in URL:** Data is included in the URL as query parameters.\n",
        "\n",
        "**Idempotent:** Multiple identical GET requests should return the same result.\n",
        "\n",
        "**Caching:** GET requests are often cached for performance.\n",
        "\n",
        "**Security:** Data in the URL is visible in browser history and logs, potentially less secure for sensitive data.\n",
        "\n",
        "##**POST:**\n",
        "**Sending Data:** POST is used to send data to the server, often for creating or modifying resources.\n",
        "\n",
        "**Data in Request Body:** Data is sent in the request body of the HTTP message.\n",
        "\n",
        "**Non-Idempotent:** Multiple identical POST requests can have different effects, especially when creating resources.\n",
        "\n",
        "**Caching:** POST requests are typically not cached.\n",
        "\n",
        "**Security:** Data in the request body is not visible in the URL, making it more secure for sensitive information.\n",
        "\n",
        "###**9.How do you handle errors in Flask APIs?**\n",
        "**Ans.-**Error handling in Flask APIs is crucial for providing informative responses to clients when something goes wrong. Here's a breakdown of how you can handle errors effectively:\n",
        "\n",
        "**1. Built-in HTTP Exceptions:**\n",
        "Flask utilizes Werkzeug's HTTP exceptions, which are subclasses of HTTPException.\n",
        "You can raise these exceptions directly using abort(status_code), which will trigger the corresponding error response.\n",
        "Common exceptions include BadRequest (400), NotFound (404), Unauthorized (401), and InternalServerError (500).\n",
        "\n",
        "**2. Custom Error Handlers:**\n",
        "Use the @app.errorhandler(ExceptionType) decorator to register a function that handles a specific type of exception.\n",
        "The handler receives the exception object as an argument.\n",
        "Inside the handler, you can:\n",
        "Create a custom error response (e.g., JSON) with a descriptive message and the appropriate HTTP status code.\n",
        "Log the error for debugging purposes.\n",
        "Return the response.\n",
        "\n",
        "**3. Custom Exceptions:**\n",
        "For specific application errors, create your own exception classes that inherit from Exception.\n",
        "This improves code readability and makes it easier to handle different types of errors consistently.\n",
        "You can then register an error handler for your custom exception class.\n",
        "\n",
        "**4. Logging Errors:**\n",
        "Use Flask's built-in logging capabilities to record errors and their details.\n",
        "Log messages at different levels (e.g., debug, info, warning, error, critical) based on severity.\n",
        "This helps with debugging and monitoring your API.\n",
        "\n",
        "**5. Error Responses:**\n",
        "Error responses should include the HTTP status code and a descriptive message.\n",
        "JSON format is commonly used for API error responses.\n",
        "Include error details like a unique error code or additional information for debugging.\n",
        "\n",
        "###**10.How do you connect Flask to a SQL database?**\n",
        "**Ans.-**\n",
        "**1.Installation-**\n",
        "Create the project folder and open the command line in the directory.\n",
        "\n",
        "**2.File Structure-**\n",
        "\n",
        "**3.Creating app.py-**\n",
        "Once the installation is complete, we can create our main Flask application file, app.py. To verify that everything is installed and running correctly.\n",
        "\n",
        "**4.Setting Up SQLAlchemy-**\n",
        "To create a database we need to import SQLAlchemy in app.py, set up SQLite configuration, and create a database instance\n",
        "\n",
        "**5.Creating Model-**\n",
        "In sqlalchemy we use classes to create our database structure.\n",
        "\n",
        "**6.Display data on Index Page-**\n",
        "Create an \"index.html\" file int the Templates folder. This will be our root page, it will display all the saved profiles in the database. Jinja templating will dynamically render the data in the HTML file. The delete function will be added later.\n",
        "\n",
        "**7.Creating add_profile.html**\n",
        "In the templates folder, create file \"add_profile.html\", it will erender the form that taes user input for the profile details and the form will be linked to a \"/add\" route.\n",
        "\n",
        "**8.Creating \"/add\" route in app.py**\n",
        "This route will receive the form data, create a user object and add it to the databse.\n",
        "\n",
        "###**11.What is the role of Flask-SQLAlchemy?**\n",
        "**Ans.-**Flask-SQLAlchemy is a Flask extension that makes using SQLAlchemy with Flask easier, providing you tools and methods to interact with your database in your Flask applications through SQLAlchemy. In this tutorial, you'll build a small student management system that demonstrates how to use the Flask-SQLAlchemy extension.\n",
        "\n",
        "###**12.What are Flask blueprints, and how are they useful?**\n",
        "**Ans.-**Blueprints in Flask help you organize your application into modular, reusable components. They let you group related routes, templates, and static files together, which is especially useful for large projects. With blueprints, you can develop, test, and maintain different parts of your app separately, and then register them with your main application.\n",
        "\n",
        "###**13.What is the purpose of Flask's request object?**\n",
        "**Ans.-**The Flask request object is a crucial component for handling incoming HTTP requests in a Flask web application. It provides access to all the data sent by the client, such as form data, query parameters, headers, and uploaded files. Here's a breakdown of its purpose:\n",
        "\n",
        "**Accessing Request Data:**\n",
        "The request object acts as a container for all information sent by the client. This includes data from HTML forms submitted via POST requests, query parameters appended to the URL, and HTTP headers containing metadata about the request.\n",
        "\n",
        "**Form Data Handling:**\n",
        "When a user submits a form, the request object allows you to access the form data using request.form. This data is typically stored as key-value pairs, where the keys correspond to the names of the form fields.\n",
        "\n",
        "**Query Parameter Retrieval:**\n",
        "Query parameters included in the URL can be accessed using request.args. This allows you to retrieve data passed through the URL, such as search queries or pagination parameters.\n",
        "\n",
        "**File Upload Handling:**\n",
        "If the request includes files uploaded through a form, the request object provides access to these files using request.files. This allows you to retrieve and process the uploaded files, such as saving them to disk.\n",
        "\n",
        "**Header Access:**\n",
        "The request object allows you to inspect HTTP headers sent by the client using request.headers. This provides metadata about the request, such as the client's browser, language, and authorization tokens.\n",
        "\n",
        "**Request Method Identification:**\n",
        "The request object provides a way to determine the HTTP method used for the request (e.g., GET, POST, PUT, DELETE) using request.method. This is important for routing requests to the appropriate handlers.\n",
        "\n",
        "###**14.How do you create a RESTful API endpoint using Flask?**\n",
        "**Ans.-**Here's how to create a RESTful API endpoint using Flask:\n",
        "1. Install Flask:\n",
        "If you don't have Flask installed, use pip:\n",
        "\n",
        "\n",
        "\n",
        "\n",
        "\n",
        "\n",
        "\n",
        "\n",
        "\n",
        "      \n"
      ],
      "metadata": {
        "id": "GZsSKxa3lss3"
      }
    },
    {
      "cell_type": "code",
      "source": [
        "   pip install Flask"
      ],
      "metadata": {
        "id": "vAMS4ImQWrx9"
      },
      "execution_count": null,
      "outputs": []
    },
    {
      "cell_type": "markdown",
      "source": [
        "2.Basic Setup:\n",
        "\n",
        "Create a Python file (e.g., app.py).\n",
        "\n",
        "Import the Flask class and create an instance of a Flask application:"
      ],
      "metadata": {
        "id": "mJwHr4N8Wuhu"
      }
    },
    {
      "cell_type": "code",
      "source": [
        "     from flask import Flask, jsonify, request\n",
        "\n",
        "     app = Flask(__name__)"
      ],
      "metadata": {
        "id": "ZhXX0p3gW3ae"
      },
      "execution_count": null,
      "outputs": []
    },
    {
      "cell_type": "markdown",
      "source": [
        "3.Define an Endpoint:\n",
        "\n",
        "Use the @app.route() decorator to associate a URL with a function.\n",
        "\n",
        "Specify the HTTP method(s) your endpoint will handle (e.g., GET, POST, PUT, DELETE).\n",
        "\n",
        "Use the methods parameter to specify the HTTP methods that the route should handle.\n",
        "\n",
        "The function associated with the route will be executed when a request is made to that URL."
      ],
      "metadata": {
        "id": "nMVs6HVIW8Zs"
      }
    },
    {
      "cell_type": "code",
      "source": [
        "    @app.route('/items', methods=['GET'])\n",
        "    def get_items():\n",
        "        items = [\n",
        "            {'id': 1, 'name': 'Item 1'},\n",
        "            {'id': 2, 'name': 'Item 2'}\n",
        "            ]\n",
        "        return jsonify(items)"
      ],
      "metadata": {
        "id": "MxxxcrDFXRBs"
      },
      "execution_count": null,
      "outputs": []
    },
    {
      "cell_type": "markdown",
      "source": [
        "4. Returning Data:\n",
        "Use jsonify() from Flask to return data as JSON.\n",
        "5. Handling Different HTTP methods:\n",
        "GET: To retrieve data.\n",
        "POST: To create new data.\n",
        "PUT: To update existing data.\n",
        "DELETE: To delete data.\n",
        "6. Example:\n",
        "7. run the app\n",
        "\n",
        "###**15.What is the purpose of Flask's jsonify() function?**\n",
        "**Ans.-**Flask's jsonify() function converts Python dictionaries or lists into JSON format and automatically sets the response's content type to application/json, making it ideal for creating REST APIs. This function simplifies returning JSON data in Flask routes, ensuring proper handling of JSON responses.\n",
        "\n",
        "###**16.Explain Flask’s url_for() function.**\n",
        "**Ans.-**The url_for() function in Flask is used to generate URLs dynamically based on view functions. This function is crucial for building maintainable and flexible web applications. Instead of hardcoding URLs, url_for() allows you to reference view functions by name and generate the corresponding URLs.\n",
        "\n",
        "###**17.How does Flask handle static files (CSS, JavaScript, etc.)?**\n",
        "**Ans.-**Flask handles static files like CSS, JavaScript, and images by serving them from a designated directory, typically named \"static,\" located within your application's root directory. Here's a breakdown of how it works:\n",
        "1. The \"static\" directory:\n",
        "Flask automatically recognizes a folder named \"static\" in your application's root directory as the place to store static files.\n",
        "You can organize your static files within this directory using subfolders (e.g., static/css, static/js, static/img).\n",
        "2. Accessing static files in templates:\n",
        "To link to static files in your HTML templates, you should use the url_for() function. This function generates the correct URL for the static file.\n",
        "The url_for() function takes two arguments:\n",
        "The string 'static' to indicate that you are referring to a static file.\n",
        "The filename keyword argument, which specifies the path to the static file relative to the \"static\" directory.\n",
        "For example, to link to a CSS file named styles.css located in the static/css directory, you would use the following code:\n",
        "Code\n",
        "\n",
        "  <link rel=\"stylesheet\" href=\"{{ url_for('static', filename='css/styles.css') }}\">\n",
        "3. How Flask serves static files:\n",
        "When a user requests a static file (e.g., /static/css/styles.css), Flask automatically serves the file from the \"static\" directory.\n",
        "This is handled by a built-in static view that Flask creates.\n",
        "4. Benefits of using url_for():\n",
        "Flexibility:\n",
        "It allows you to change the location of your static directory without needing to modify all of your HTML templates.\n",
        "Consistency:\n",
        "It ensures that your static file URLs are always correct, even if your application is deployed in a different environment.\n",
        "Readability:\n",
        "It makes your code more readable by clearly indicating that you are referring to a static file.\n",
        "\n",
        "###**18.What is an API specification, and how does it help in building a Flask API?**\n",
        "**Ans.-**Prerequisite: Introduction to Rest API REST stands for REpresentational State Transfer and is an architectural style used in modern web development. It defines a set or rules/constraints for a web application to send and receive data.\n",
        "\n",
        "In this article, we will build a REST API in Python using the Flask framework. Flask is a popular micro framework for building web applications. Since it is a micro-framework, it is very easy to use and lacks most of the advanced functionality which is found in a full-fledged framework. Therefore, building a REST API in Flask is very simple. There are two ways of creating a REST API in Flask:\n",
        "\n",
        "1-Using Flask without any external libraries\n",
        "\n",
        "2-Using flask_restful library\n",
        "\n",
        "###**19.What are HTTP status codes, and why are they important in a Flask API?**\n",
        "**Ans.-**HTTP response status codes indicate whether a specific HTTP request has been successfully completed. Responses are grouped in five classes: Informational responses ( 100 – 199 ) Successful responses ( 200 – 299 ).\n",
        "\n",
        "###**20.How do you handle POST requests in Flask?**\n",
        "**Ans.-**Handling POST requests in Flask involves several key steps:\n",
        "\n",
        "**1. Define the Route:**\n",
        "Use the @app.route() decorator to specify the URL path that should handle the POST request.\n",
        "Include methods=['POST'] in the decorator to indicate that this route should only accept POST requests.\n",
        "\n",
        "**2. Access Request Data:**\n",
        "The request object from Flask provides access to the data sent in the POST request.\n",
        "For form data, use request.form which is a dictionary-like object.\n",
        "For JSON data, use request.get_json() which returns a Python dictionary.\n",
        "\n",
        "**3. Process the Data:**\n",
        "Once you have the data, you can perform any necessary operations.\n",
        "This might include saving data to a database, performing calculations, or sending emails.\n",
        "**4. Send a Response:**\n",
        "After processing the data, you can send a response back to the client.\n",
        "This can be a simple message, a redirect to another page, or a more complex JSON response.\n",
        "\n",
        "**5. Handle File Uploads:**\n",
        "To handle file uploads, use request.files.\n",
        "Save the uploaded file using the save() method of the file object.\n",
        "\n",
        "###**21.How would you secure a Flask API?**\n",
        "**Ans.-**Securing a Flask API involves multiple strategies to protect against various threats. Here's a breakdown of essential practices:\n",
        "1. Authentication and Authorization:\n",
        "Token-Based Authentication: Use JSON Web Tokens (JWT) for authentication. After a user logs in, issue a JWT that's sent with each subsequent request. The API verifies the token's validity.\n",
        "OAuth 2.0: Implement OAuth 2.0 for more robust authorization, especially when dealing with third-party access.\n",
        "API Keys: Generate and manage API keys for clients that need access to the API.\n",
        "Role-Based Access Control (RBAC): Define roles and permissions to control access to specific API endpoints based on the user's role.\n",
        "Basic Authentication: While simple, it is less secure and should be avoided for production APIs.\n",
        "2. Input Validation and Sanitization:\n",
        "Validate all incoming data: Ensure that data conforms to the expected format and type. Use libraries like Marshmallow for data validation and serialization.\n",
        "Sanitize user input: Prevent injection attacks by properly sanitizing user-provided input.\n",
        "3. Password Management:\n",
        "Hashing:\n",
        "Never store passwords in plain text. Use strong hashing algorithms like bcrypt or Argon2 to hash passwords before storing them.\n",
        "Salting:\n",
        "Add random salts to each password before hashing to prevent rainbow table attacks.\n",
        "4. HTTP Security Headers:\n",
        "Enable HTTPS:\n",
        "Use TLS/SSL to encrypt all communication between the client and the server, protecting against eavesdropping and man-in-the-middle attacks.\n",
        "Set security headers:\n",
        "Use headers like X-Frame-Options, X-Content-Type-Options, Content-Security-Policy, and Strict-Transport-Security to mitigate common web vulnerabilities.\n",
        "5. Cross-Origin Resource Sharing (CORS):\n",
        "Configure CORS: Specify which domains are allowed to access your API to prevent unauthorized requests from other origins.\n",
        "6. Error Handling and Logging:\n",
        "Handle errors gracefully: Avoid exposing sensitive information in error messages.\n",
        "Log all API requests and errors: Monitor logs for suspicious activity and debug issues.\n",
        "7. Rate Limiting:\n",
        "Implement rate limiting: Protect against brute-force attacks and abuse by limiting the number of requests from a single client within a time period.\n",
        "8. Environment Variables:\n",
        "Use environment variables: Store sensitive configuration data like API keys and database credentials in environment variables instead of hardcoding them into the application.\n",
        "9. Security Libraries:\n",
        "Flask-Security:\n",
        "Use the Flask-Security library to add common security mechanisms to your Flask application.\n",
        "Flask-JWT-Extended:\n",
        "Use Flask-JWT-Extended for easy implementation of JWT-based authentication.\n",
        "10. Regular Security Audits:\n",
        "Perform security audits: Conduct regular security audits and penetration testing to identify and fix vulnerabilities.\n",
        "11. Other Important Considerations:\n",
        "Disable debug mode in production: Running your application in debug mode exposes sensitive information.\n",
        "Use a production web server: Do not use Flask's built-in development server in production. Use servers like Gunicorn or uWSGI.\n",
        "Keep dependencies up-to-date: Regularly update all dependencies to patch security vulnerabilities.\n",
        "\n",
        "###**22.What is the significance of the Flask-RESTful extension?**\n",
        "**Ans.-**\n",
        "The Flask RESTful extension significantly simplifies the development of RESTful APIs within Flask applications. It provides a structured way to define resources, manage HTTP methods, and handle data serialization/deserialization, leading to cleaner, more maintainable code. By leveraging the Resource class, it enables developers to define HTTP methods as class methods, making it easier to organize and manage API endpoints.\n",
        "\n",
        "##**Key Significance:**\n",
        "**Simplified API Development:**\n",
        "Flask RESTful abstracts away the complexities of defining and handling API endpoints, making the process more straightforward and efficient.\n",
        "\n",
        "**Resource-Oriented Approach:**\n",
        "The Resource class encourages a well-structured approach to API design, promoting reusability and maintainability.\n",
        "\n",
        "**Best Practice Adherence:**\n",
        "It encourages the use of RESTful principles, resulting in APIs that are easier to scale, maintain, and integrate with other services.\n",
        "\n",
        "**Object-Oriented Programming:**\n",
        "It allows developers to write cleaner, more object-oriented code for API development.\n",
        "\n",
        "**Data Serialization/Deserialization:**\n",
        "It provides built-in mechanisms for serializing and deserializing data, simplifying the process of handling data formats like JSON.\n",
        "\n",
        "###**23.What is the role of Flask’s session object?**\n",
        "**Ans.-**In Flask, the session object allows developers to store and retrieve user-specific data across multiple HTTP requests. It's a mechanism to maintain state between requests, enabling features like login persistence and personalized experiences. Think of it as a way to \"remember\" information about a user as they navigate your web application.\n",
        "\n",
        "Here's a more detailed explanation:\n",
        "\n",
        "**Storage:**\n",
        "The session object stores data in a cryptographically signed cookie on the user's browser. This means the user can see the contents of the cookie, but they cannot modify it without knowing the secret key used for signing.\n",
        "\n",
        "**Purpose:**\n",
        "It's primarily used to track user authentication, such as remembering whether a user is logged in. You can also store other user-specific information, like preferences, cart items, or other dynamic data.\n",
        "\n",
        "**Implementation:**\n",
        "The session object is a dictionary-like structure that allows you to set and retrieve data using key-value pairs. You can use it to store any data that you want to persist across requests for a particular user.\n",
        "\n",
        "**Example:**\n",
        "A common use case is storing a user's login status. When a user logs in, you can set a session variable, like is_logged_in = True, and then check this variable in subsequent requests to determine if the user is still logged in.\n",
        "\n",
        "\n",
        "\n",
        "#**Practical**\n",
        "\n",
        "###**1.How do you create a basic Flask application?**\n",
        "**Ans.-**✅ Step 1: Install Flask\n",
        "First, ensure you have Python installed.\n",
        "\n",
        "Then, install Flask using pip:\n"
      ],
      "metadata": {
        "id": "Naizeo2xXU4w"
      }
    },
    {
      "cell_type": "code",
      "source": [
        "pip install Flask\n"
      ],
      "metadata": {
        "id": "CmQaWMAtbQIP"
      },
      "execution_count": null,
      "outputs": []
    },
    {
      "cell_type": "markdown",
      "source": [
        "✅ Step 2: Create Your Flask App\n",
        "\n",
        "Create a new Python file, for example, app.py, and add the following code:"
      ],
      "metadata": {
        "id": "bwUTVvfckEnc"
      }
    },
    {
      "cell_type": "code",
      "source": [
        "from flask import Flask\n",
        "\n",
        "app = Flask(__name__)\n",
        "\n",
        "@app.route('/')\n",
        "def hello():\n",
        "    return 'Hello, World!'\n",
        "\n",
        "if __name__ == '__main__':\n",
        "    app.run(debug=True)\n"
      ],
      "metadata": {
        "id": "Qm-SgyefkNm4"
      },
      "execution_count": null,
      "outputs": []
    },
    {
      "cell_type": "markdown",
      "source": [
        "✅ Step 3: Run the Application\n",
        "\n",
        "In your terminal, navigate to the directory containing app.py and execute:"
      ],
      "metadata": {
        "id": "Vm3iTlmLkPSz"
      }
    },
    {
      "cell_type": "code",
      "source": [
        "python app.py\n"
      ],
      "metadata": {
        "id": "7CJn_SeXkVZo"
      },
      "execution_count": null,
      "outputs": []
    },
    {
      "cell_type": "markdown",
      "source": [
        "###**2.How do you serve static files like images or CSS in Flask?**\n",
        "**Ans.-**"
      ],
      "metadata": {
        "id": "vfK9vRIykZ59"
      }
    },
    {
      "cell_type": "code",
      "source": [
        "from flask import Flask\n",
        "from flask import render_template\n",
        "\n",
        "# creates a Flask application\n",
        "app = Flask(__name__)\n",
        "\n",
        "\n",
        "@app.route(\"/\")\n",
        "def hello():\n",
        "    message = \"Hello, World\"\n",
        "    return render_template('index.html', message=message)\n",
        "\n",
        "\n",
        "@app.route(\"/image\")\n",
        "def serve_image():\n",
        "    message = \"Image Route\"\n",
        "    return render_template('image.html', message=message)\n",
        "\n",
        "\n",
        "# run the application\n",
        "if __name__ == \"__main__\":\n",
        "    app.run(debug=True)"
      ],
      "metadata": {
        "colab": {
          "base_uri": "https://localhost:8080/"
        },
        "id": "LpfvmLtimpoR",
        "outputId": "2a45b366-1fd7-4d8c-96db-01b80b3101c6"
      },
      "execution_count": null,
      "outputs": [
        {
          "metadata": {
            "tags": null
          },
          "name": "stdout",
          "output_type": "stream",
          "text": [
            " * Serving Flask app '__main__'\n",
            " * Debug mode: on\n"
          ]
        },
        {
          "metadata": {
            "tags": null
          },
          "name": "stderr",
          "output_type": "stream",
          "text": [
            "INFO:werkzeug:\u001b[31m\u001b[1mWARNING: This is a development server. Do not use it in a production deployment. Use a production WSGI server instead.\u001b[0m\n",
            " * Running on http://127.0.0.1:5000\n",
            "INFO:werkzeug:\u001b[33mPress CTRL+C to quit\u001b[0m\n",
            "INFO:werkzeug: * Restarting with stat\n"
          ]
        }
      ]
    },
    {
      "cell_type": "markdown",
      "source": [
        "###**3.How do you define different routes with different HTTP methods in Flask?**\n",
        "**Ans.-**"
      ],
      "metadata": {
        "id": "AgOwZt5eo0MN"
      }
    },
    {
      "cell_type": "code",
      "source": [
        "# Defining Routes for Multiple HTTP Methods\n",
        "from flask import Flask, request\n",
        "\n",
        "app = Flask(__name__)\n",
        "\n",
        "@app.route('/submit', methods=['GET', 'POST'])\n",
        "def submit():\n",
        "    if request.method == 'POST':# Handle POST request\n",
        "        return 'Form submitted!'\n",
        "    else: # Handle GET request\n",
        "        return 'Submit your form here.'\n"
      ],
      "metadata": {
        "id": "k5vbCpiSpLFq"
      },
      "execution_count": null,
      "outputs": []
    },
    {
      "cell_type": "code",
      "source": [
        " #Using Shortcut Decorators for Specific Methods\n",
        " @app.get('/info')\n",
        "def get_info():\n",
        "    return 'This is a GET request.'\n",
        "\n",
        "@app.post('/info')\n",
        "def post_info():\n",
        "    return 'This is a POST request.'\n"
      ],
      "metadata": {
        "id": "-Q5gaWR0n8RM"
      },
      "execution_count": null,
      "outputs": []
    },
    {
      "cell_type": "markdown",
      "source": [
        "###**4.How do you render HTML templates in Flask?**\n",
        "**Ans.-**"
      ],
      "metadata": {
        "id": "PgxwBfdcqy57"
      }
    },
    {
      "cell_type": "code",
      "source": [
        "from flask import Flask, render_template\n",
        "\n",
        "app = Flask(__name__)\n",
        "\n",
        "@app.route(\"/\")\n",
        "def index():\n",
        "    return render_template(\"index.html\")\n",
        "\n",
        "if __name__ == \"__main__\":\n",
        "    app.run()"
      ],
      "metadata": {
        "id": "aKrry7_wpnSO"
      },
      "execution_count": null,
      "outputs": []
    },
    {
      "cell_type": "markdown",
      "source": [
        "###**5.How can you generate URLs for routes in Flask using url_for?**\n",
        "**Ans.-**In Flask, the url_for() function is a powerful utility that dynamically generates URLs for your application routes. Instead of hardcoding URLs, which can lead to maintenance challenges, url_for() references the function names associated with your routes, ensuring that URL generation remains consistent and adaptable to changes."
      ],
      "metadata": {
        "id": "GcxDe3H-KA8b"
      }
    },
    {
      "cell_type": "code",
      "source": [
        "# import the Flask library\n",
        "from flask import Flask, render_template\n",
        "\n",
        "\n",
        "# Create the Flask instance and pass the Flask\n",
        "# constructor, the path of the correct module\n",
        "app = Flask(__name__)\n",
        "\n",
        "\n",
        "# Default route added using a decorator, for view function 'welcome'\n",
        "# Landing page of our web application - sportsmain.html\n",
        "@app.route('/')\n",
        "def welcome():\n",
        "    return render_template('sportsmain.html')\n",
        "\n",
        "\n",
        "# Start with flask web app, with debug as True,\n",
        "# only if this is the starting page\n",
        "if(__name__ == \"__main__\"):\n",
        "    app.run(debug=True)"
      ],
      "metadata": {
        "colab": {
          "base_uri": "https://localhost:8080/"
        },
        "id": "El_usg6oKopY",
        "outputId": "1bff42d3-4a39-44bd-d606-7d5b012735ff"
      },
      "execution_count": null,
      "outputs": [
        {
          "output_type": "stream",
          "name": "stdout",
          "text": [
            " * Serving Flask app '__main__'\n",
            " * Debug mode: on\n"
          ]
        },
        {
          "output_type": "stream",
          "name": "stderr",
          "text": [
            "INFO:werkzeug:\u001b[31m\u001b[1mWARNING: This is a development server. Do not use it in a production deployment. Use a production WSGI server instead.\u001b[0m\n",
            " * Running on http://127.0.0.1:5000\n",
            "INFO:werkzeug:\u001b[33mPress CTRL+C to quit\u001b[0m\n",
            "INFO:werkzeug: * Restarting with stat\n"
          ]
        }
      ]
    },
    {
      "cell_type": "markdown",
      "source": [
        "###**6.How do you handle forms in Flask?**\n",
        "**Ans.-**"
      ],
      "metadata": {
        "id": "XifYXoSeLmcH"
      }
    },
    {
      "cell_type": "code",
      "source": [
        "# Importing required functions\n",
        "from flask import Flask, request, render_template\n",
        "\n",
        "# Flask constructor\n",
        "app = Flask(__name__)\n",
        "\n",
        "# Root endpoint\n",
        "@app.route('/', methods=['GET'])\n",
        "def index():\n",
        "    ## Display the HTML form template\n",
        "    return render_template('index.html')\n",
        "\n",
        "# `read-form` endpoint\n",
        "@app.route('/read-form', methods=['POST'])\n",
        "def read_form():\n",
        "\n",
        "    # Get the form data as Python ImmutableDict datatype\n",
        "    data = request.form\n",
        "\n",
        "    ## Return the extracted information\n",
        "    return {\n",
        "        'emailId'     : data['userEmail'],\n",
        "        'phoneNumber' : data['userContact'],\n",
        "        'password'    : data['userPassword'],\n",
        "        'gender'      : 'Male' if data['genderMale'] else 'Female',\n",
        "    }\n",
        "\n",
        "# Main Driver Function\n",
        "if __name__ == '__main__':\n",
        "    # Run the application on the local development server\n",
        "    app.run()"
      ],
      "metadata": {
        "id": "JTDID5QIL4S-"
      },
      "execution_count": null,
      "outputs": []
    },
    {
      "cell_type": "markdown",
      "source": [
        "###**7.How can you validate form data in Flask?**\n",
        "**Ans.-**"
      ],
      "metadata": {
        "id": "ssxLgRDXMLYO"
      }
    },
    {
      "cell_type": "code",
      "source": [
        "from flask import Flask, render_template, redirect, url_for\n",
        "from forms import CourseForm\n",
        "\n",
        "app = Flask(__name__)\n",
        "app.config['SECRET_KEY'] = 'your secret key'\n",
        "\n",
        "\n",
        "courses_list = [{\n",
        "    'title': 'Python 101',\n",
        "    'description': 'Learn Python basics',\n",
        "    'price': 34,\n",
        "    'available': True,\n",
        "    'level': 'Beginner'\n",
        "    }]\n",
        "\n",
        "\n",
        "@app.route('/', methods=('GET', 'POST'))\n",
        "def index():\n",
        "    form = CourseForm()\n",
        "    return render_template('index.html', form=form)"
      ],
      "metadata": {
        "id": "8hbkTLFCLhyh"
      },
      "execution_count": null,
      "outputs": []
    },
    {
      "cell_type": "markdown",
      "source": [
        "###**8.How do you manage sessions in Flask?**\n",
        "**Ans.-**"
      ],
      "metadata": {
        "id": "Ll1imrFKM1_E"
      }
    },
    {
      "cell_type": "code",
      "source": [
        "@app.route(\"/\")\n",
        "def index():\n",
        "    # If no username in session, redirect to login\n",
        "    if not session.get(\"name\"):\n",
        "        return redirect(\"/login\")\n",
        "    return render_template(\"index.html\")\n",
        "\n",
        "@app.route(\"/login\", methods=[\"GET\", \"POST\"])\n",
        "def login():\n",
        "    if request.method == \"POST\":\n",
        "        # Record the user name in session\n",
        "        session[\"name\"] = request.form.get(\"name\")\n",
        "        return redirect(\"/\")\n",
        "    return render_template(\"login.html\")\n",
        "\n",
        "@app.route(\"/logout\")\n",
        "def logout():\n",
        "    # Clear the username from session\n",
        "    session[\"name\"] = None\n",
        "    return redirect(\"/\")"
      ],
      "metadata": {
        "id": "fNlQt2cjMoo1"
      },
      "execution_count": null,
      "outputs": []
    },
    {
      "cell_type": "markdown",
      "source": [
        "###**9.How do you redirect to a different route in Flask?**\n",
        "**Ans.-**"
      ],
      "metadata": {
        "id": "PTRJqJlbNgqX"
      }
    },
    {
      "cell_type": "code",
      "source": [
        "from flask import Flask, redirect, url_for\n",
        "\n",
        "app = Flask(__name__)\n",
        "\n",
        "@app.route('/')\n",
        "def home():\n",
        "    return redirect(url_for('dashboard'))\n",
        "\n",
        "@app.route('/dashboard')\n",
        "def dashboard():\n",
        "    return 'Welcome to the Dashboard!'\n"
      ],
      "metadata": {
        "id": "XTFYAHSsNNk3"
      },
      "execution_count": null,
      "outputs": []
    },
    {
      "cell_type": "markdown",
      "source": [
        "###**10.How do you handle errors in Flask (e.g., 404)?**\n",
        "**Ans.-**"
      ],
      "metadata": {
        "id": "xEokNwxrN0Vn"
      }
    },
    {
      "cell_type": "code",
      "source": [
        "from flask import Flask, render_template\n",
        "\n",
        "app = Flask(__name__)\n",
        "\n",
        "@app.errorhandler(404)\n",
        "def page_not_found(error):\n",
        "    return render_template('404.html'), 404\n"
      ],
      "metadata": {
        "id": "RgnqxCp3Nx6j"
      },
      "execution_count": null,
      "outputs": []
    },
    {
      "cell_type": "markdown",
      "source": [
        "###**11.How do you structure a Flask app using Blueprints?**\n",
        "**Ans.-**"
      ],
      "metadata": {
        "id": "cW9zl3ArOMS0"
      }
    },
    {
      "cell_type": "code",
      "source": [
        "# run.py\n",
        "from app import create_app\n",
        "\n",
        "app = create_app()\n",
        "\n",
        "if __name__ == '__main__':\n",
        "    app.run(debug=True)\n"
      ],
      "metadata": {
        "id": "VPnHkSwKOKxe"
      },
      "execution_count": null,
      "outputs": []
    },
    {
      "cell_type": "markdown",
      "source": [
        "###**12.How do you define a custom Jinja filter in Flask?**\n",
        "**Ans.-**"
      ],
      "metadata": {
        "id": "P7769bN4Ol98"
      }
    },
    {
      "cell_type": "code",
      "source": [
        "app.jinja_env.filters['capitalize_words'] = capitalize_words\n"
      ],
      "metadata": {
        "id": "MJFS6pK9Okyg"
      },
      "execution_count": null,
      "outputs": []
    },
    {
      "cell_type": "markdown",
      "source": [
        "###**13.How can you redirect with query parameters in Flask?**\n",
        "**Ans.-**"
      ],
      "metadata": {
        "id": "PoHatcGjPDqG"
      }
    },
    {
      "cell_type": "code",
      "source": [
        "from flask import Flask, redirect, url_for, request\n",
        "\n",
        "app = Flask(__name__)\n",
        "\n",
        "@app.route('/search')\n",
        "def search():\n",
        "    query = request.args.get('query')\n",
        "    page = request.args.get('page')\n",
        "    return f\"Search results for: {query}, page: {page}\"\n",
        "\n",
        "@app.route('/go-to-search')\n",
        "def go_to_search():\n",
        "    return redirect(url_for('search', query='flask', page=2))\n",
        "\n",
        "if __name__ == '__main__':\n",
        "    app.run(debug=True)\n"
      ],
      "metadata": {
        "id": "i4e-gWJmPXXC"
      },
      "execution_count": null,
      "outputs": []
    },
    {
      "cell_type": "markdown",
      "source": [
        "###**14.How do you return JSON responses in Flask?**\n",
        "**Ans.-**"
      ],
      "metadata": {
        "id": "O7qZNl4nPZoJ"
      }
    },
    {
      "cell_type": "code",
      "source": [
        "from flask import Flask, jsonify\n",
        "\n",
        "app = Flask(__name__)\n",
        "\n",
        "@app.route('/api/user')\n",
        "def get_user():\n",
        "    user = {\n",
        "        \"id\": 1,\n",
        "        \"name\": \"Alice\",\n",
        "        \"email\": \"alice@example.com\"\n",
        "    }\n",
        "    return jsonify(user)\n"
      ],
      "metadata": {
        "id": "3rvaKOfXPYHb"
      },
      "execution_count": null,
      "outputs": []
    },
    {
      "cell_type": "markdown",
      "source": [
        "###**15.How do you capture URL parameters in Flask?**\n",
        "**Ans.-**"
      ],
      "metadata": {
        "id": "PSFY8v58P5IF"
      }
    },
    {
      "cell_type": "code",
      "source": [
        "from flask import Flask\n",
        "\n",
        "app = Flask(__name__)\n",
        "\n",
        "@app.route('/user/<username>')\n",
        "def show_user_profile(username):\n",
        "    return f'User: {username}'\n"
      ],
      "metadata": {
        "id": "pSQRkKg-P4B7"
      },
      "execution_count": null,
      "outputs": []
    },
    {
      "cell_type": "code",
      "source": [],
      "metadata": {
        "id": "nwheAvgbQPnm"
      },
      "execution_count": null,
      "outputs": []
    }
  ]
}